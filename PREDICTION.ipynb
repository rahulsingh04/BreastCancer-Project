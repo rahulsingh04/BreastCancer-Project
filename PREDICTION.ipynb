{
 "cells": [
  {
   "cell_type": "code",
   "execution_count": 20,
   "id": "8c1f2a1f",
   "metadata": {},
   "outputs": [
    {
     "data": {
      "application/javascript": [
       "\n",
       "        if (window._pyforest_update_imports_cell) { window._pyforest_update_imports_cell('import numpy as np\\nimport pickle'); }\n",
       "    "
      ],
      "text/plain": [
       "<IPython.core.display.Javascript object>"
      ]
     },
     "metadata": {},
     "output_type": "display_data"
    }
   ],
   "source": [
    "\n",
    "\n",
    "# Loading model to compare the results\n",
    "model = pickle.load(open('classifier.pkl','rb'))\n",
    "# print(model.predict([[2, 9, 6]]))"
   ]
  },
  {
   "cell_type": "code",
   "execution_count": null,
   "id": "002dfc22",
   "metadata": {},
   "outputs": [],
   "source": []
  },
  {
   "cell_type": "code",
   "execution_count": 21,
   "id": "c24f79ec",
   "metadata": {},
   "outputs": [
    {
     "data": {
      "application/javascript": [
       "\n",
       "        if (window._pyforest_update_imports_cell) { window._pyforest_update_imports_cell('import numpy as np\\nimport pickle'); }\n",
       "    "
      ],
      "text/plain": [
       "<IPython.core.display.Javascript object>"
      ]
     },
     "metadata": {},
     "output_type": "display_data"
    }
   ],
   "source": [
    "X_rf2=np.array([[-0.4877952 , -0.25088379, -0.46378664, -0.51543986,  0.05784012,\n",
    "       -0.0262922 , -0.10351188, -0.31929301,  0.40877389,  0.11968017,\n",
    "       -0.0858903 , -0.39144008, -0.22090758, -0.2944085 , -0.10670318,\n",
    "       -0.38822597, -0.05805714, -0.18386347, -0.30097441, -0.05389032,\n",
    "       -0.29186744, -0.2492245 , -0.34337233, -0.37693497,  0.32080655,\n",
    "       -0.13570975,  0.0219982 , -0.21989091,  0.23083947,  0.17173277]])\n",
    "# X_rf2=ss.transform(X_rf2)\n",
    "X_rf2_prediction=model.predict(X_rf2)"
   ]
  },
  {
   "cell_type": "code",
   "execution_count": 22,
   "id": "73177b64",
   "metadata": {},
   "outputs": [
    {
     "data": {
      "text/plain": [
       "array([0])"
      ]
     },
     "execution_count": 22,
     "metadata": {},
     "output_type": "execute_result"
    }
   ],
   "source": [
    "X_rf2_prediction"
   ]
  },
  {
   "cell_type": "code",
   "execution_count": 23,
   "id": "0c7916d8",
   "metadata": {},
   "outputs": [],
   "source": [
    "Catagory=['No SIGN OF BREAST CANCER',' Yes breast cancer detected be carefull']"
   ]
  },
  {
   "cell_type": "code",
   "execution_count": 24,
   "id": "98f54e70",
   "metadata": {},
   "outputs": [
    {
     "name": "stdout",
     "output_type": "stream",
     "text": [
      "No SIGN OF BREAST CANCER\n"
     ]
    }
   ],
   "source": [
    "print(Catagory[int(X_rf2_prediction)])"
   ]
  },
  {
   "cell_type": "code",
   "execution_count": null,
   "id": "6fc3ed7a",
   "metadata": {},
   "outputs": [],
   "source": []
  },
  {
   "cell_type": "code",
   "execution_count": null,
   "id": "cf4f79f6",
   "metadata": {},
   "outputs": [],
   "source": []
  },
  {
   "cell_type": "code",
   "execution_count": 25,
   "id": "071202a9",
   "metadata": {},
   "outputs": [],
   "source": [
    "from sklearn.preprocessing import StandardScaler\n",
    "ss = StandardScaler()\n"
   ]
  },
  {
   "cell_type": "code",
   "execution_count": 30,
   "id": "83505e3f",
   "metadata": {},
   "outputs": [
    {
     "data": {
      "application/javascript": [
       "\n",
       "        if (window._pyforest_update_imports_cell) { window._pyforest_update_imports_cell('import numpy as np\\nimport pickle'); }\n",
       "    "
      ],
      "text/plain": [
       "<IPython.core.display.Javascript object>"
      ]
     },
     "metadata": {},
     "output_type": "display_data"
    }
   ],
   "source": [
    "X_rf2=np.array([[ 1.37325734,  0.36318719,  1.29254295,  1.39312002, -0.60829613,\n",
    "       -0.07993782,  0.24277219,  0.67513869, -0.85597344, -1.29896166,\n",
    "        1.47064932, -0.81206704,  1.4289415 ,  1.44852743, -1.01379125,\n",
    "       -0.56339254, -0.27204702,  0.40725139, -0.75978406, -1.00547962,\n",
    "        1.71934692,  0.05256312,  1.68197529,  1.68648542, -0.7636134 ,\n",
    "       -0.16099207,  0.02979422,  0.93019499, -0.58958803, -0.972629  ]])\n",
    "# X_rf2=ss.transform(X_rf2)\n",
    "X_rf2_prediction=model.predict(X_rf2)"
   ]
  },
  {
   "cell_type": "code",
   "execution_count": 31,
   "id": "b08eb957",
   "metadata": {},
   "outputs": [
    {
     "data": {
      "text/plain": [
       "array([1])"
      ]
     },
     "execution_count": 31,
     "metadata": {},
     "output_type": "execute_result"
    }
   ],
   "source": [
    "X_rf2_prediction"
   ]
  },
  {
   "cell_type": "code",
   "execution_count": 32,
   "id": "966bd886",
   "metadata": {},
   "outputs": [
    {
     "name": "stdout",
     "output_type": "stream",
     "text": [
      " Yes breast cancer detected be carefull\n"
     ]
    }
   ],
   "source": [
    "print(Catagory[int(X_rf2_prediction)])"
   ]
  },
  {
   "cell_type": "code",
   "execution_count": 18,
   "id": "8758b956",
   "metadata": {},
   "outputs": [
    {
     "data": {
      "text/plain": [
       "array([0])"
      ]
     },
     "execution_count": 18,
     "metadata": {},
     "output_type": "execute_result"
    }
   ],
   "source": []
  },
  {
   "cell_type": "code",
   "execution_count": null,
   "id": "0cece212",
   "metadata": {},
   "outputs": [],
   "source": []
  },
  {
   "cell_type": "code",
   "execution_count": null,
   "id": "4164751b",
   "metadata": {},
   "outputs": [],
   "source": []
  }
 ],
 "metadata": {
  "kernelspec": {
   "display_name": "Python 3",
   "language": "python",
   "name": "python3"
  },
  "language_info": {
   "codemirror_mode": {
    "name": "ipython",
    "version": 3
   },
   "file_extension": ".py",
   "mimetype": "text/x-python",
   "name": "python",
   "nbconvert_exporter": "python",
   "pygments_lexer": "ipython3",
   "version": "3.8.8"
  }
 },
 "nbformat": 4,
 "nbformat_minor": 5
}
