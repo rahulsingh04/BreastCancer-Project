{
  "nbformat": 4,
  "nbformat_minor": 0,
  "metadata": {
    "colab": {
      "name": "ANN breastDisease.ipynb",
      "provenance": []
    },
    "kernelspec": {
      "name": "python3",
      "display_name": "Python 3"
    },
    "language_info": {
      "name": "python"
    },
    "accelerator": "GPU"
  },
  "cells": [
    {
      "cell_type": "code",
      "execution_count": null,
      "metadata": {
        "id": "1pte4vnood6p"
      },
      "outputs": [],
      "source": [
        "# !pip install -q kaggle"
      ]
    },
    {
      "cell_type": "code",
      "source": [
        "# from google.colab import files\n",
        "# files.upload()\n"
      ],
      "metadata": {
        "id": "O3OEZxgSol7J"
      },
      "execution_count": null,
      "outputs": []
    },
    {
      "cell_type": "code",
      "source": [
        "import pandas as pd\n",
        "import numpy as np \n",
        "import matplotlib.pyplot as plt\n",
        "import seaborn as sns\n",
        "\n"
      ],
      "metadata": {
        "id": "x2SArRxbqWrL"
      },
      "execution_count": null,
      "outputs": []
    },
    {
      "cell_type": "code",
      "source": [
        "data = pd.read_csv(\"/content/data.csv\")"
      ],
      "metadata": {
        "id": "NJuOp17Kqd3v"
      },
      "execution_count": null,
      "outputs": []
    },
    {
      "cell_type": "code",
      "source": [
        "data.head()"
      ],
      "metadata": {
        "colab": {
          "base_uri": "https://localhost:8080/",
          "height": 288
        },
        "id": "9eDmHkRirdhR",
        "outputId": "462b2034-f87a-4c93-d075-eb8859d8639d"
      },
      "execution_count": null,
      "outputs": [
        {
          "output_type": "execute_result",
          "data": {
            "text/html": [
              "\n",
              "  <div id=\"df-10b53d7c-eadd-4037-a64f-9a0503fd1f24\">\n",
              "    <div class=\"colab-df-container\">\n",
              "      <div>\n",
              "<style scoped>\n",
              "    .dataframe tbody tr th:only-of-type {\n",
              "        vertical-align: middle;\n",
              "    }\n",
              "\n",
              "    .dataframe tbody tr th {\n",
              "        vertical-align: top;\n",
              "    }\n",
              "\n",
              "    .dataframe thead th {\n",
              "        text-align: right;\n",
              "    }\n",
              "</style>\n",
              "<table border=\"1\" class=\"dataframe\">\n",
              "  <thead>\n",
              "    <tr style=\"text-align: right;\">\n",
              "      <th></th>\n",
              "      <th>id</th>\n",
              "      <th>diagnosis</th>\n",
              "      <th>radius_mean</th>\n",
              "      <th>texture_mean</th>\n",
              "      <th>perimeter_mean</th>\n",
              "      <th>area_mean</th>\n",
              "      <th>smoothness_mean</th>\n",
              "      <th>compactness_mean</th>\n",
              "      <th>concavity_mean</th>\n",
              "      <th>concave points_mean</th>\n",
              "      <th>symmetry_mean</th>\n",
              "      <th>fractal_dimension_mean</th>\n",
              "      <th>radius_se</th>\n",
              "      <th>texture_se</th>\n",
              "      <th>perimeter_se</th>\n",
              "      <th>area_se</th>\n",
              "      <th>smoothness_se</th>\n",
              "      <th>compactness_se</th>\n",
              "      <th>concavity_se</th>\n",
              "      <th>concave points_se</th>\n",
              "      <th>symmetry_se</th>\n",
              "      <th>fractal_dimension_se</th>\n",
              "      <th>radius_worst</th>\n",
              "      <th>texture_worst</th>\n",
              "      <th>perimeter_worst</th>\n",
              "      <th>area_worst</th>\n",
              "      <th>smoothness_worst</th>\n",
              "      <th>compactness_worst</th>\n",
              "      <th>concavity_worst</th>\n",
              "      <th>concave points_worst</th>\n",
              "      <th>symmetry_worst</th>\n",
              "      <th>fractal_dimension_worst</th>\n",
              "      <th>Unnamed: 32</th>\n",
              "    </tr>\n",
              "  </thead>\n",
              "  <tbody>\n",
              "    <tr>\n",
              "      <th>0</th>\n",
              "      <td>842302</td>\n",
              "      <td>M</td>\n",
              "      <td>17.99</td>\n",
              "      <td>10.38</td>\n",
              "      <td>122.80</td>\n",
              "      <td>1001.0</td>\n",
              "      <td>0.11840</td>\n",
              "      <td>0.27760</td>\n",
              "      <td>0.3001</td>\n",
              "      <td>0.14710</td>\n",
              "      <td>0.2419</td>\n",
              "      <td>0.07871</td>\n",
              "      <td>1.0950</td>\n",
              "      <td>0.9053</td>\n",
              "      <td>8.589</td>\n",
              "      <td>153.40</td>\n",
              "      <td>0.006399</td>\n",
              "      <td>0.04904</td>\n",
              "      <td>0.05373</td>\n",
              "      <td>0.01587</td>\n",
              "      <td>0.03003</td>\n",
              "      <td>0.006193</td>\n",
              "      <td>25.38</td>\n",
              "      <td>17.33</td>\n",
              "      <td>184.60</td>\n",
              "      <td>2019.0</td>\n",
              "      <td>0.1622</td>\n",
              "      <td>0.6656</td>\n",
              "      <td>0.7119</td>\n",
              "      <td>0.2654</td>\n",
              "      <td>0.4601</td>\n",
              "      <td>0.11890</td>\n",
              "      <td>NaN</td>\n",
              "    </tr>\n",
              "    <tr>\n",
              "      <th>1</th>\n",
              "      <td>842517</td>\n",
              "      <td>M</td>\n",
              "      <td>20.57</td>\n",
              "      <td>17.77</td>\n",
              "      <td>132.90</td>\n",
              "      <td>1326.0</td>\n",
              "      <td>0.08474</td>\n",
              "      <td>0.07864</td>\n",
              "      <td>0.0869</td>\n",
              "      <td>0.07017</td>\n",
              "      <td>0.1812</td>\n",
              "      <td>0.05667</td>\n",
              "      <td>0.5435</td>\n",
              "      <td>0.7339</td>\n",
              "      <td>3.398</td>\n",
              "      <td>74.08</td>\n",
              "      <td>0.005225</td>\n",
              "      <td>0.01308</td>\n",
              "      <td>0.01860</td>\n",
              "      <td>0.01340</td>\n",
              "      <td>0.01389</td>\n",
              "      <td>0.003532</td>\n",
              "      <td>24.99</td>\n",
              "      <td>23.41</td>\n",
              "      <td>158.80</td>\n",
              "      <td>1956.0</td>\n",
              "      <td>0.1238</td>\n",
              "      <td>0.1866</td>\n",
              "      <td>0.2416</td>\n",
              "      <td>0.1860</td>\n",
              "      <td>0.2750</td>\n",
              "      <td>0.08902</td>\n",
              "      <td>NaN</td>\n",
              "    </tr>\n",
              "    <tr>\n",
              "      <th>2</th>\n",
              "      <td>84300903</td>\n",
              "      <td>M</td>\n",
              "      <td>19.69</td>\n",
              "      <td>21.25</td>\n",
              "      <td>130.00</td>\n",
              "      <td>1203.0</td>\n",
              "      <td>0.10960</td>\n",
              "      <td>0.15990</td>\n",
              "      <td>0.1974</td>\n",
              "      <td>0.12790</td>\n",
              "      <td>0.2069</td>\n",
              "      <td>0.05999</td>\n",
              "      <td>0.7456</td>\n",
              "      <td>0.7869</td>\n",
              "      <td>4.585</td>\n",
              "      <td>94.03</td>\n",
              "      <td>0.006150</td>\n",
              "      <td>0.04006</td>\n",
              "      <td>0.03832</td>\n",
              "      <td>0.02058</td>\n",
              "      <td>0.02250</td>\n",
              "      <td>0.004571</td>\n",
              "      <td>23.57</td>\n",
              "      <td>25.53</td>\n",
              "      <td>152.50</td>\n",
              "      <td>1709.0</td>\n",
              "      <td>0.1444</td>\n",
              "      <td>0.4245</td>\n",
              "      <td>0.4504</td>\n",
              "      <td>0.2430</td>\n",
              "      <td>0.3613</td>\n",
              "      <td>0.08758</td>\n",
              "      <td>NaN</td>\n",
              "    </tr>\n",
              "    <tr>\n",
              "      <th>3</th>\n",
              "      <td>84348301</td>\n",
              "      <td>M</td>\n",
              "      <td>11.42</td>\n",
              "      <td>20.38</td>\n",
              "      <td>77.58</td>\n",
              "      <td>386.1</td>\n",
              "      <td>0.14250</td>\n",
              "      <td>0.28390</td>\n",
              "      <td>0.2414</td>\n",
              "      <td>0.10520</td>\n",
              "      <td>0.2597</td>\n",
              "      <td>0.09744</td>\n",
              "      <td>0.4956</td>\n",
              "      <td>1.1560</td>\n",
              "      <td>3.445</td>\n",
              "      <td>27.23</td>\n",
              "      <td>0.009110</td>\n",
              "      <td>0.07458</td>\n",
              "      <td>0.05661</td>\n",
              "      <td>0.01867</td>\n",
              "      <td>0.05963</td>\n",
              "      <td>0.009208</td>\n",
              "      <td>14.91</td>\n",
              "      <td>26.50</td>\n",
              "      <td>98.87</td>\n",
              "      <td>567.7</td>\n",
              "      <td>0.2098</td>\n",
              "      <td>0.8663</td>\n",
              "      <td>0.6869</td>\n",
              "      <td>0.2575</td>\n",
              "      <td>0.6638</td>\n",
              "      <td>0.17300</td>\n",
              "      <td>NaN</td>\n",
              "    </tr>\n",
              "    <tr>\n",
              "      <th>4</th>\n",
              "      <td>84358402</td>\n",
              "      <td>M</td>\n",
              "      <td>20.29</td>\n",
              "      <td>14.34</td>\n",
              "      <td>135.10</td>\n",
              "      <td>1297.0</td>\n",
              "      <td>0.10030</td>\n",
              "      <td>0.13280</td>\n",
              "      <td>0.1980</td>\n",
              "      <td>0.10430</td>\n",
              "      <td>0.1809</td>\n",
              "      <td>0.05883</td>\n",
              "      <td>0.7572</td>\n",
              "      <td>0.7813</td>\n",
              "      <td>5.438</td>\n",
              "      <td>94.44</td>\n",
              "      <td>0.011490</td>\n",
              "      <td>0.02461</td>\n",
              "      <td>0.05688</td>\n",
              "      <td>0.01885</td>\n",
              "      <td>0.01756</td>\n",
              "      <td>0.005115</td>\n",
              "      <td>22.54</td>\n",
              "      <td>16.67</td>\n",
              "      <td>152.20</td>\n",
              "      <td>1575.0</td>\n",
              "      <td>0.1374</td>\n",
              "      <td>0.2050</td>\n",
              "      <td>0.4000</td>\n",
              "      <td>0.1625</td>\n",
              "      <td>0.2364</td>\n",
              "      <td>0.07678</td>\n",
              "      <td>NaN</td>\n",
              "    </tr>\n",
              "  </tbody>\n",
              "</table>\n",
              "</div>\n",
              "      <button class=\"colab-df-convert\" onclick=\"convertToInteractive('df-10b53d7c-eadd-4037-a64f-9a0503fd1f24')\"\n",
              "              title=\"Convert this dataframe to an interactive table.\"\n",
              "              style=\"display:none;\">\n",
              "        \n",
              "  <svg xmlns=\"http://www.w3.org/2000/svg\" height=\"24px\"viewBox=\"0 0 24 24\"\n",
              "       width=\"24px\">\n",
              "    <path d=\"M0 0h24v24H0V0z\" fill=\"none\"/>\n",
              "    <path d=\"M18.56 5.44l.94 2.06.94-2.06 2.06-.94-2.06-.94-.94-2.06-.94 2.06-2.06.94zm-11 1L8.5 8.5l.94-2.06 2.06-.94-2.06-.94L8.5 2.5l-.94 2.06-2.06.94zm10 10l.94 2.06.94-2.06 2.06-.94-2.06-.94-.94-2.06-.94 2.06-2.06.94z\"/><path d=\"M17.41 7.96l-1.37-1.37c-.4-.4-.92-.59-1.43-.59-.52 0-1.04.2-1.43.59L10.3 9.45l-7.72 7.72c-.78.78-.78 2.05 0 2.83L4 21.41c.39.39.9.59 1.41.59.51 0 1.02-.2 1.41-.59l7.78-7.78 2.81-2.81c.8-.78.8-2.07 0-2.86zM5.41 20L4 18.59l7.72-7.72 1.47 1.35L5.41 20z\"/>\n",
              "  </svg>\n",
              "      </button>\n",
              "      \n",
              "  <style>\n",
              "    .colab-df-container {\n",
              "      display:flex;\n",
              "      flex-wrap:wrap;\n",
              "      gap: 12px;\n",
              "    }\n",
              "\n",
              "    .colab-df-convert {\n",
              "      background-color: #E8F0FE;\n",
              "      border: none;\n",
              "      border-radius: 50%;\n",
              "      cursor: pointer;\n",
              "      display: none;\n",
              "      fill: #1967D2;\n",
              "      height: 32px;\n",
              "      padding: 0 0 0 0;\n",
              "      width: 32px;\n",
              "    }\n",
              "\n",
              "    .colab-df-convert:hover {\n",
              "      background-color: #E2EBFA;\n",
              "      box-shadow: 0px 1px 2px rgba(60, 64, 67, 0.3), 0px 1px 3px 1px rgba(60, 64, 67, 0.15);\n",
              "      fill: #174EA6;\n",
              "    }\n",
              "\n",
              "    [theme=dark] .colab-df-convert {\n",
              "      background-color: #3B4455;\n",
              "      fill: #D2E3FC;\n",
              "    }\n",
              "\n",
              "    [theme=dark] .colab-df-convert:hover {\n",
              "      background-color: #434B5C;\n",
              "      box-shadow: 0px 1px 3px 1px rgba(0, 0, 0, 0.15);\n",
              "      filter: drop-shadow(0px 1px 2px rgba(0, 0, 0, 0.3));\n",
              "      fill: #FFFFFF;\n",
              "    }\n",
              "  </style>\n",
              "\n",
              "      <script>\n",
              "        const buttonEl =\n",
              "          document.querySelector('#df-10b53d7c-eadd-4037-a64f-9a0503fd1f24 button.colab-df-convert');\n",
              "        buttonEl.style.display =\n",
              "          google.colab.kernel.accessAllowed ? 'block' : 'none';\n",
              "\n",
              "        async function convertToInteractive(key) {\n",
              "          const element = document.querySelector('#df-10b53d7c-eadd-4037-a64f-9a0503fd1f24');\n",
              "          const dataTable =\n",
              "            await google.colab.kernel.invokeFunction('convertToInteractive',\n",
              "                                                     [key], {});\n",
              "          if (!dataTable) return;\n",
              "\n",
              "          const docLinkHtml = 'Like what you see? Visit the ' +\n",
              "            '<a target=\"_blank\" href=https://colab.research.google.com/notebooks/data_table.ipynb>data table notebook</a>'\n",
              "            + ' to learn more about interactive tables.';\n",
              "          element.innerHTML = '';\n",
              "          dataTable['output_type'] = 'display_data';\n",
              "          await google.colab.output.renderOutput(dataTable, element);\n",
              "          const docLink = document.createElement('div');\n",
              "          docLink.innerHTML = docLinkHtml;\n",
              "          element.appendChild(docLink);\n",
              "        }\n",
              "      </script>\n",
              "    </div>\n",
              "  </div>\n",
              "  "
            ],
            "text/plain": [
              "         id diagnosis  ...  fractal_dimension_worst  Unnamed: 32\n",
              "0    842302         M  ...                  0.11890          NaN\n",
              "1    842517         M  ...                  0.08902          NaN\n",
              "2  84300903         M  ...                  0.08758          NaN\n",
              "3  84348301         M  ...                  0.17300          NaN\n",
              "4  84358402         M  ...                  0.07678          NaN\n",
              "\n",
              "[5 rows x 33 columns]"
            ]
          },
          "metadata": {},
          "execution_count": 5
        }
      ]
    },
    {
      "cell_type": "code",
      "source": [
        "numerical_features = [features for features in data.columns if data[features].dtype!=\"O\"]"
      ],
      "metadata": {
        "id": "V3Dsj6HprfgI"
      },
      "execution_count": null,
      "outputs": []
    },
    {
      "cell_type": "code",
      "source": [
        "print(\"Total numbers  of the columns are:\", len(data.columns))\n",
        "print()\n",
        "print(\"Total numbers of numeric columns are :\", len(numerical_features))"
      ],
      "metadata": {
        "colab": {
          "base_uri": "https://localhost:8080/"
        },
        "id": "erhChwVZsItR",
        "outputId": "dd80cba2-053a-409a-f73d-af17dddf243e"
      },
      "execution_count": null,
      "outputs": [
        {
          "output_type": "stream",
          "name": "stdout",
          "text": [
            "Total numbers  of the columns are: 33\n",
            "\n",
            "Total numbers of numeric columns are : 32\n"
          ]
        }
      ]
    },
    {
      "cell_type": "code",
      "source": [
        "data.info()"
      ],
      "metadata": {
        "colab": {
          "base_uri": "https://localhost:8080/"
        },
        "id": "nR_TUYRFsLzH",
        "outputId": "e77b5c97-1942-4ba0-99f0-acac1e24464e"
      },
      "execution_count": null,
      "outputs": [
        {
          "output_type": "stream",
          "name": "stdout",
          "text": [
            "<class 'pandas.core.frame.DataFrame'>\n",
            "RangeIndex: 569 entries, 0 to 568\n",
            "Data columns (total 33 columns):\n",
            " #   Column                   Non-Null Count  Dtype  \n",
            "---  ------                   --------------  -----  \n",
            " 0   id                       569 non-null    int64  \n",
            " 1   diagnosis                569 non-null    object \n",
            " 2   radius_mean              569 non-null    float64\n",
            " 3   texture_mean             569 non-null    float64\n",
            " 4   perimeter_mean           569 non-null    float64\n",
            " 5   area_mean                569 non-null    float64\n",
            " 6   smoothness_mean          569 non-null    float64\n",
            " 7   compactness_mean         569 non-null    float64\n",
            " 8   concavity_mean           569 non-null    float64\n",
            " 9   concave points_mean      569 non-null    float64\n",
            " 10  symmetry_mean            569 non-null    float64\n",
            " 11  fractal_dimension_mean   569 non-null    float64\n",
            " 12  radius_se                569 non-null    float64\n",
            " 13  texture_se               569 non-null    float64\n",
            " 14  perimeter_se             569 non-null    float64\n",
            " 15  area_se                  569 non-null    float64\n",
            " 16  smoothness_se            569 non-null    float64\n",
            " 17  compactness_se           569 non-null    float64\n",
            " 18  concavity_se             569 non-null    float64\n",
            " 19  concave points_se        569 non-null    float64\n",
            " 20  symmetry_se              569 non-null    float64\n",
            " 21  fractal_dimension_se     569 non-null    float64\n",
            " 22  radius_worst             569 non-null    float64\n",
            " 23  texture_worst            569 non-null    float64\n",
            " 24  perimeter_worst          569 non-null    float64\n",
            " 25  area_worst               569 non-null    float64\n",
            " 26  smoothness_worst         569 non-null    float64\n",
            " 27  compactness_worst        569 non-null    float64\n",
            " 28  concavity_worst          569 non-null    float64\n",
            " 29  concave points_worst     569 non-null    float64\n",
            " 30  symmetry_worst           569 non-null    float64\n",
            " 31  fractal_dimension_worst  569 non-null    float64\n",
            " 32  Unnamed: 32              0 non-null      float64\n",
            "dtypes: float64(31), int64(1), object(1)\n",
            "memory usage: 146.8+ KB\n"
          ]
        }
      ]
    },
    {
      "cell_type": "code",
      "source": [
        "data['diagnosis'].value_counts()"
      ],
      "metadata": {
        "colab": {
          "base_uri": "https://localhost:8080/"
        },
        "id": "JESxLhpAtN1A",
        "outputId": "e1ca82ee-1ed6-497c-80b6-98b72711ee41"
      },
      "execution_count": null,
      "outputs": [
        {
          "output_type": "execute_result",
          "data": {
            "text/plain": [
              "B    357\n",
              "M    212\n",
              "Name: diagnosis, dtype: int64"
            ]
          },
          "metadata": {},
          "execution_count": 9
        }
      ]
    },
    {
      "cell_type": "code",
      "source": [
        "sns.countplot(x=\"diagnosis\", data = data)"
      ],
      "metadata": {
        "colab": {
          "base_uri": "https://localhost:8080/",
          "height": 296
        },
        "id": "-ZWzxx9htXw9",
        "outputId": "7f1e218d-9fb0-4d30-e7bf-b1fb020af442"
      },
      "execution_count": null,
      "outputs": [
        {
          "output_type": "execute_result",
          "data": {
            "text/plain": [
              "<matplotlib.axes._subplots.AxesSubplot at 0x7f19d4c64510>"
            ]
          },
          "metadata": {},
          "execution_count": 10
        },
        {
          "output_type": "display_data",
          "data": {
            "image/png": "[encoded data removed]",
            "text/plain": [
              "<Figure size 432x288 with 1 Axes>"
            ]
          },
          "metadata": {
            "needs_background": "light"
          }
        }
      ]
    },
    {
      "cell_type": "code",
      "source": [
        "from sklearn.preprocessing import LabelEncoder\n",
        "le = LabelEncoder()\n",
        "data['diagnosis'] = le.fit_transform(data['diagnosis'])\n"
      ],
      "metadata": {
        "id": "Gt68iu8gtz--"
      },
      "execution_count": null,
      "outputs": []
    },
    {
      "cell_type": "code",
      "source": [
        "sns.countplot(x=\"diagnosis\", data = data)"
      ],
      "metadata": {
        "colab": {
          "base_uri": "https://localhost:8080/",
          "height": 296
        },
        "id": "0_PFn4tzvNZ_",
        "outputId": "b7bf24a9-2bca-45f6-c182-8d301181d385"
      },
      "execution_count": null,
      "outputs": [
        {
          "output_type": "execute_result",
          "data": {
            "text/plain": [
              "<matplotlib.axes._subplots.AxesSubplot at 0x7f19d4cba810>"
            ]
          },
          "metadata": {},
          "execution_count": 12
        },
        {
          "output_type": "display_data",
          "data": {
            "image/png": "[encoded data removed]",
            "text/plain": [
              "<Figure size 432x288 with 1 Axes>"
            ]
          },
          "metadata": {
            "needs_background": "light"
          }
        }
      ]
    },
    {
      "cell_type": "code",
      "source": [
        "data['diagnosis'].value_counts()\n",
        "# 0:\"B\", and 1:\"M\""
      ],
      "metadata": {
        "colab": {
          "base_uri": "https://localhost:8080/"
        },
        "id": "k5Dsk2Mbvro5",
        "outputId": "263fee7a-7b7f-4445-ad1b-c437aede3de0"
      },
      "execution_count": null,
      "outputs": [
        {
          "output_type": "execute_result",
          "data": {
            "text/plain": [
              "0    357\n",
              "1    212\n",
              "Name: diagnosis, dtype: int64"
            ]
          },
          "metadata": {},
          "execution_count": 13
        }
      ]
    },
    {
      "cell_type": "code",
      "source": [
        "data.head()\n"
      ],
      "metadata": {
        "colab": {
          "base_uri": "https://localhost:8080/",
          "height": 288
        },
        "id": "ktGUVqeFv1ri",
        "outputId": "06dcc81f-6358-40f0-e171-15fa8a12cbd3"
      },
      "execution_count": null,
      "outputs": [
        {
          "output_type": "execute_result",
          "data": {
            "text/html": [
              "\n",
              "  <div id=\"df-b0c2dcb6-5a07-417c-9bbf-eda2e7ce8a42\">\n",
              "    <div class=\"colab-df-container\">\n",
              "      <div>\n",
              "<style scoped>\n",
              "    .dataframe tbody tr th:only-of-type {\n",
              "        vertical-align: middle;\n",
              "    }\n",
              "\n",
              "    .dataframe tbody tr th {\n",
              "        vertical-align: top;\n",
              "    }\n",
              "\n",
              "    .dataframe thead th {\n",
              "        text-align: right;\n",
              "    }\n",
              "</style>\n",
              "<table border=\"1\" class=\"dataframe\">\n",
              "  <thead>\n",
              "    <tr style=\"text-align: right;\">\n",
              "      <th></th>\n",
              "      <th>id</th>\n",
              "      <th>diagnosis</th>\n",
              "      <th>radius_mean</th>\n",
              "      <th>texture_mean</th>\n",
              "      <th>perimeter_mean</th>\n",
              "      <th>area_mean</th>\n",
              "      <th>smoothness_mean</th>\n",
              "      <th>compactness_mean</th>\n",
              "      <th>concavity_mean</th>\n",
              "      <th>concave points_mean</th>\n",
              "      <th>symmetry_mean</th>\n",
              "      <th>fractal_dimension_mean</th>\n",
              "      <th>radius_se</th>\n",
              "      <th>texture_se</th>\n",
              "      <th>perimeter_se</th>\n",
              "      <th>area_se</th>\n",
              "      <th>smoothness_se</th>\n",
              "      <th>compactness_se</th>\n",
              "      <th>concavity_se</th>\n",
              "      <th>concave points_se</th>\n",
              "      <th>symmetry_se</th>\n",
              "      <th>fractal_dimension_se</th>\n",
              "      <th>radius_worst</th>\n",
              "      <th>texture_worst</th>\n",
              "      <th>perimeter_worst</th>\n",
              "      <th>area_worst</th>\n",
              "      <th>smoothness_worst</th>\n",
              "      <th>compactness_worst</th>\n",
              "      <th>concavity_worst</th>\n",
              "      <th>concave points_worst</th>\n",
              "      <th>symmetry_worst</th>\n",
              "      <th>fractal_dimension_worst</th>\n",
              "      <th>Unnamed: 32</th>\n",
              "    </tr>\n",
              "  </thead>\n",
              "  <tbody>\n",
              "    <tr>\n",
              "      <th>0</th>\n",
              "      <td>842302</td>\n",
              "      <td>1</td>\n",
              "      <td>17.99</td>\n",
              "      <td>10.38</td>\n",
              "      <td>122.80</td>\n",
              "      <td>1001.0</td>\n",
              "      <td>0.11840</td>\n",
              "      <td>0.27760</td>\n",
              "      <td>0.3001</td>\n",
              "      <td>0.14710</td>\n",
              "      <td>0.2419</td>\n",
              "      <td>0.07871</td>\n",
              "      <td>1.0950</td>\n",
              "      <td>0.9053</td>\n",
              "      <td>8.589</td>\n",
              "      <td>153.40</td>\n",
              "      <td>0.006399</td>\n",
              "      <td>0.04904</td>\n",
              "      <td>0.05373</td>\n",
              "      <td>0.01587</td>\n",
              "      <td>0.03003</td>\n",
              "      <td>0.006193</td>\n",
              "      <td>25.38</td>\n",
              "      <td>17.33</td>\n",
              "      <td>184.60</td>\n",
              "      <td>2019.0</td>\n",
              "      <td>0.1622</td>\n",
              "      <td>0.6656</td>\n",
              "      <td>0.7119</td>\n",
              "      <td>0.2654</td>\n",
              "      <td>0.4601</td>\n",
              "      <td>0.11890</td>\n",
              "      <td>NaN</td>\n",
              "    </tr>\n",
              "    <tr>\n",
              "      <th>1</th>\n",
              "      <td>842517</td>\n",
              "      <td>1</td>\n",
              "      <td>20.57</td>\n",
              "      <td>17.77</td>\n",
              "      <td>132.90</td>\n",
              "      <td>1326.0</td>\n",
              "      <td>0.08474</td>\n",
              "      <td>0.07864</td>\n",
              "      <td>0.0869</td>\n",
              "      <td>0.07017</td>\n",
              "      <td>0.1812</td>\n",
              "      <td>0.05667</td>\n",
              "      <td>0.5435</td>\n",
              "      <td>0.7339</td>\n",
              "      <td>3.398</td>\n",
              "      <td>74.08</td>\n",
              "      <td>0.005225</td>\n",
              "      <td>0.01308</td>\n",
              "      <td>0.01860</td>\n",
              "      <td>0.01340</td>\n",
              "      <td>0.01389</td>\n",
              "      <td>0.003532</td>\n",
              "      <td>24.99</td>\n",
              "      <td>23.41</td>\n",
              "      <td>158.80</td>\n",
              "      <td>1956.0</td>\n",
              "      <td>0.1238</td>\n",
              "      <td>0.1866</td>\n",
              "      <td>0.2416</td>\n",
              "      <td>0.1860</td>\n",
              "      <td>0.2750</td>\n",
              "      <td>0.08902</td>\n",
              "      <td>NaN</td>\n",
              "    </tr>\n",
              "    <tr>\n",
              "      <th>2</th>\n",
              "      <td>84300903</td>\n",
              "      <td>1</td>\n",
              "      <td>19.69</td>\n",
              "      <td>21.25</td>\n",
              "      <td>130.00</td>\n",
              "      <td>1203.0</td>\n",
              "      <td>0.10960</td>\n",
              "      <td>0.15990</td>\n",
              "      <td>0.1974</td>\n",
              "      <td>0.12790</td>\n",
              "      <td>0.2069</td>\n",
              "      <td>0.05999</td>\n",
              "      <td>0.7456</td>\n",
              "      <td>0.7869</td>\n",
              "      <td>4.585</td>\n",
              "      <td>94.03</td>\n",
              "      <td>0.006150</td>\n",
              "      <td>0.04006</td>\n",
              "      <td>0.03832</td>\n",
              "      <td>0.02058</td>\n",
              "      <td>0.02250</td>\n",
              "      <td>0.004571</td>\n",
              "      <td>23.57</td>\n",
              "      <td>25.53</td>\n",
              "      <td>152.50</td>\n",
              "      <td>1709.0</td>\n",
              "      <td>0.1444</td>\n",
              "      <td>0.4245</td>\n",
              "      <td>0.4504</td>\n",
              "      <td>0.2430</td>\n",
              "      <td>0.3613</td>\n",
              "      <td>0.08758</td>\n",
              "      <td>NaN</td>\n",
              "    </tr>\n",
              "    <tr>\n",
              "      <th>3</th>\n",
              "      <td>84348301</td>\n",
              "      <td>1</td>\n",
              "      <td>11.42</td>\n",
              "      <td>20.38</td>\n",
              "      <td>77.58</td>\n",
              "      <td>386.1</td>\n",
              "      <td>0.14250</td>\n",
              "      <td>0.28390</td>\n",
              "      <td>0.2414</td>\n",
              "      <td>0.10520</td>\n",
              "      <td>0.2597</td>\n",
              "      <td>0.09744</td>\n",
              "      <td>0.4956</td>\n",
              "      <td>1.1560</td>\n",
              "      <td>3.445</td>\n",
              "      <td>27.23</td>\n",
              "      <td>0.009110</td>\n",
              "      <td>0.07458</td>\n",
              "      <td>0.05661</td>\n",
              "      <td>0.01867</td>\n",
              "      <td>0.05963</td>\n",
              "      <td>0.009208</td>\n",
              "      <td>14.91</td>\n",
              "      <td>26.50</td>\n",
              "      <td>98.87</td>\n",
              "      <td>567.7</td>\n",
              "      <td>0.2098</td>\n",
              "      <td>0.8663</td>\n",
              "      <td>0.6869</td>\n",
              "      <td>0.2575</td>\n",
              "      <td>0.6638</td>\n",
              "      <td>0.17300</td>\n",
              "      <td>NaN</td>\n",
              "    </tr>\n",
              "    <tr>\n",
              "      <th>4</th>\n",
              "      <td>84358402</td>\n",
              "      <td>1</td>\n",
              "      <td>20.29</td>\n",
              "      <td>14.34</td>\n",
              "      <td>135.10</td>\n",
              "      <td>1297.0</td>\n",
              "      <td>0.10030</td>\n",
              "      <td>0.13280</td>\n",
              "      <td>0.1980</td>\n",
              "      <td>0.10430</td>\n",
              "      <td>0.1809</td>\n",
              "      <td>0.05883</td>\n",
              "      <td>0.7572</td>\n",
              "      <td>0.7813</td>\n",
              "      <td>5.438</td>\n",
              "      <td>94.44</td>\n",
              "      <td>0.011490</td>\n",
              "      <td>0.02461</td>\n",
              "      <td>0.05688</td>\n",
              "      <td>0.01885</td>\n",
              "      <td>0.01756</td>\n",
              "      <td>0.005115</td>\n",
              "      <td>22.54</td>\n",
              "      <td>16.67</td>\n",
              "      <td>152.20</td>\n",
              "      <td>1575.0</td>\n",
              "      <td>0.1374</td>\n",
              "      <td>0.2050</td>\n",
              "      <td>0.4000</td>\n",
              "      <td>0.1625</td>\n",
              "      <td>0.2364</td>\n",
              "      <td>0.07678</td>\n",
              "      <td>NaN</td>\n",
              "    </tr>\n",
              "  </tbody>\n",
              "</table>\n",
              "</div>\n",
              "      <button class=\"colab-df-convert\" onclick=\"convertToInteractive('df-b0c2dcb6-5a07-417c-9bbf-eda2e7ce8a42')\"\n",
              "              title=\"Convert this dataframe to an interactive table.\"\n",
              "              style=\"display:none;\">\n",
              "        \n",
              "  <svg xmlns=\"http://www.w3.org/2000/svg\" height=\"24px\"viewBox=\"0 0 24 24\"\n",
              "       width=\"24px\">\n",
              "    <path d=\"M0 0h24v24H0V0z\" fill=\"none\"/>\n",
              "    <path d=\"M18.56 5.44l.94 2.06.94-2.06 2.06-.94-2.06-.94-.94-2.06-.94 2.06-2.06.94zm-11 1L8.5 8.5l.94-2.06 2.06-.94-2.06-.94L8.5 2.5l-.94 2.06-2.06.94zm10 10l.94 2.06.94-2.06 2.06-.94-2.06-.94-.94-2.06-.94 2.06-2.06.94z\"/><path d=\"M17.41 7.96l-1.37-1.37c-.4-.4-.92-.59-1.43-.59-.52 0-1.04.2-1.43.59L10.3 9.45l-7.72 7.72c-.78.78-.78 2.05 0 2.83L4 21.41c.39.39.9.59 1.41.59.51 0 1.02-.2 1.41-.59l7.78-7.78 2.81-2.81c.8-.78.8-2.07 0-2.86zM5.41 20L4 18.59l7.72-7.72 1.47 1.35L5.41 20z\"/>\n",
              "  </svg>\n",
              "      </button>\n",
              "      \n",
              "  <style>\n",
              "    .colab-df-container {\n",
              "      display:flex;\n",
              "      flex-wrap:wrap;\n",
              "      gap: 12px;\n",
              "    }\n",
              "\n",
              "    .colab-df-convert {\n",
              "      background-color: #E8F0FE;\n",
              "      border: none;\n",
              "      border-radius: 50%;\n",
              "      cursor: pointer;\n",
              "      display: none;\n",
              "      fill: #1967D2;\n",
              "      height: 32px;\n",
              "      padding: 0 0 0 0;\n",
              "      width: 32px;\n",
              "    }\n",
              "\n",
              "    .colab-df-convert:hover {\n",
              "      background-color: #E2EBFA;\n",
              "      box-shadow: 0px 1px 2px rgba(60, 64, 67, 0.3), 0px 1px 3px 1px rgba(60, 64, 67, 0.15);\n",
              "      fill: #174EA6;\n",
              "    }\n",
              "\n",
              "    [theme=dark] .colab-df-convert {\n",
              "      background-color: #3B4455;\n",
              "      fill: #D2E3FC;\n",
              "    }\n",
              "\n",
              "    [theme=dark] .colab-df-convert:hover {\n",
              "      background-color: #434B5C;\n",
              "      box-shadow: 0px 1px 3px 1px rgba(0, 0, 0, 0.15);\n",
              "      filter: drop-shadow(0px 1px 2px rgba(0, 0, 0, 0.3));\n",
              "      fill: #FFFFFF;\n",
              "    }\n",
              "  </style>\n",
              "\n",
              "      <script>\n",
              "        const buttonEl =\n",
              "          document.querySelector('#df-b0c2dcb6-5a07-417c-9bbf-eda2e7ce8a42 button.colab-df-convert');\n",
              "        buttonEl.style.display =\n",
              "          google.colab.kernel.accessAllowed ? 'block' : 'none';\n",
              "\n",
              "        async function convertToInteractive(key) {\n",
              "          const element = document.querySelector('#df-b0c2dcb6-5a07-417c-9bbf-eda2e7ce8a42');\n",
              "          const dataTable =\n",
              "            await google.colab.kernel.invokeFunction('convertToInteractive',\n",
              "                                                     [key], {});\n",
              "          if (!dataTable) return;\n",
              "\n",
              "          const docLinkHtml = 'Like what you see? Visit the ' +\n",
              "            '<a target=\"_blank\" href=https://colab.research.google.com/notebooks/data_table.ipynb>data table notebook</a>'\n",
              "            + ' to learn more about interactive tables.';\n",
              "          element.innerHTML = '';\n",
              "          dataTable['output_type'] = 'display_data';\n",
              "          await google.colab.output.renderOutput(dataTable, element);\n",
              "          const docLink = document.createElement('div');\n",
              "          docLink.innerHTML = docLinkHtml;\n",
              "          element.appendChild(docLink);\n",
              "        }\n",
              "      </script>\n",
              "    </div>\n",
              "  </div>\n",
              "  "
            ],
            "text/plain": [
              "         id  diagnosis  ...  fractal_dimension_worst  Unnamed: 32\n",
              "0    842302          1  ...                  0.11890          NaN\n",
              "1    842517          1  ...                  0.08902          NaN\n",
              "2  84300903          1  ...                  0.08758          NaN\n",
              "3  84348301          1  ...                  0.17300          NaN\n",
              "4  84358402          1  ...                  0.07678          NaN\n",
              "\n",
              "[5 rows x 33 columns]"
            ]
          },
          "metadata": {},
          "execution_count": 14
        }
      ]
    },
    {
      "cell_type": "code",
      "source": [
        "data.isnull().sum()"
      ],
      "metadata": {
        "colab": {
          "base_uri": "https://localhost:8080/"
        },
        "id": "DKvt85e0wsIZ",
        "outputId": "d300ae9c-a79a-401f-8a99-21167549c51a"
      },
      "execution_count": null,
      "outputs": [
        {
          "output_type": "execute_result",
          "data": {
            "text/plain": [
              "id                           0\n",
              "diagnosis                    0\n",
              "radius_mean                  0\n",
              "texture_mean                 0\n",
              "perimeter_mean               0\n",
              "area_mean                    0\n",
              "smoothness_mean              0\n",
              "compactness_mean             0\n",
              "concavity_mean               0\n",
              "concave points_mean          0\n",
              "symmetry_mean                0\n",
              "fractal_dimension_mean       0\n",
              "radius_se                    0\n",
              "texture_se                   0\n",
              "perimeter_se                 0\n",
              "area_se                      0\n",
              "smoothness_se                0\n",
              "compactness_se               0\n",
              "concavity_se                 0\n",
              "concave points_se            0\n",
              "symmetry_se                  0\n",
              "fractal_dimension_se         0\n",
              "radius_worst                 0\n",
              "texture_worst                0\n",
              "perimeter_worst              0\n",
              "area_worst                   0\n",
              "smoothness_worst             0\n",
              "compactness_worst            0\n",
              "concavity_worst              0\n",
              "concave points_worst         0\n",
              "symmetry_worst               0\n",
              "fractal_dimension_worst      0\n",
              "Unnamed: 32                569\n",
              "dtype: int64"
            ]
          },
          "metadata": {},
          "execution_count": 15
        }
      ]
    },
    {
      "cell_type": "code",
      "source": [
        "data.drop([\"Unnamed: 32\" , \"id\" ], axis = 1 , inplace = True)"
      ],
      "metadata": {
        "id": "aQNjctnGwxGj"
      },
      "execution_count": null,
      "outputs": []
    },
    {
      "cell_type": "code",
      "source": [
        "x  = data.drop(['diagnosis'] , axis = 1)\n",
        "y= data['diagnosis']\n"
      ],
      "metadata": {
        "id": "P7ZcPYlzxhSw"
      },
      "execution_count": null,
      "outputs": []
    },
    {
      "cell_type": "code",
      "source": [
        "#train_test_split\n",
        "from sklearn.model_selection import train_test_split\n",
        "X_train, X_test, y_train, y_test = train_test_split(x, y, test_size = 0.2 , random_state = 42)\n"
      ],
      "metadata": {
        "id": "avBfhOI_yKFj"
      },
      "execution_count": null,
      "outputs": []
    },
    {
      "cell_type": "code",
      "source": [
        "\n",
        "print(\"X_train\", X_train.shape)\n",
        "print(\"X_test\", X_test.shape)\n",
        "print(\"Y_train\", y_train.shape)\n",
        "print(\"y_test\",  y_test.shape)"
      ],
      "metadata": {
        "colab": {
          "base_uri": "https://localhost:8080/"
        },
        "id": "cM5-jz7H0p-F",
        "outputId": "f6f44d8b-3ea7-49a3-c49f-39967f3e9236"
      },
      "execution_count": null,
      "outputs": [
        {
          "output_type": "stream",
          "name": "stdout",
          "text": [
            "X_train (455, 30)\n",
            "X_test (114, 30)\n",
            "Y_train (455,)\n",
            "y_test (114,)\n"
          ]
        }
      ]
    },
    {
      "cell_type": "code",
      "source": [
        "from sklearn.preprocessing import StandardScaler\n",
        "ss = StandardScaler()\n",
        "X_train = ss.fit_transform(X_train)\n",
        "X_test =  ss.fit_transform(X_test)"
      ],
      "metadata": {
        "id": "uwTSezVd43dR"
      },
      "execution_count": null,
      "outputs": []
    },
    {
      "cell_type": "code",
      "source": [
        "#NOW PREPARED THE MODEL FOR THE ANN \n",
        "import keras\n",
        "from keras.models import Sequential\n",
        "from keras.layers import Dense , Dropout"
      ],
      "metadata": {
        "id": "5FSdW3Uh5s6x"
      },
      "execution_count": null,
      "outputs": []
    },
    {
      "cell_type": "code",
      "source": [
        "n_inputs = len(x.columns)\n",
        "print(n_inputs)"
      ],
      "metadata": {
        "colab": {
          "base_uri": "https://localhost:8080/"
        },
        "id": "JNqAinF_5KGn",
        "outputId": "cc87a2a2-4a25-42e7-e165-f2917fe17155"
      },
      "execution_count": null,
      "outputs": [
        {
          "output_type": "stream",
          "name": "stdout",
          "text": [
            "30\n"
          ]
        }
      ]
    },
    {
      "cell_type": "code",
      "source": [
        "from keras import callbacks\n",
        "\n",
        "early_stopping = callbacks.EarlyStopping(min_delta = 0.0001, \n",
        "                                         patience = 20 , \n",
        "                                         restore_best_weights = True)\n"
      ],
      "metadata": {
        "id": "DHKhwGC25KI0"
      },
      "execution_count": null,
      "outputs": []
    },
    {
      "cell_type": "code",
      "source": [
        "\n",
        "# Initialising the NN\n",
        "model = Sequential()\n",
        "\n",
        "# layers\n",
        "\n",
        "model.add(Dense(units = 32, kernel_initializer = 'uniform', activation = 'relu', input_dim = n_inputs))\n",
        "model.add(Dense(units = 32, kernel_initializer = 'uniform', activation = 'relu'))\n",
        "model.add(Dense(units = 16, kernel_initializer = 'uniform', activation = 'relu'))\n",
        "model.add(Dropout(0.25))\n",
        "model.add(Dense(units = 8, kernel_initializer = 'uniform', activation = 'relu'))\n",
        "model.add(Dropout(0.5))\n",
        "model.add(Dense(units = 1, kernel_initializer = 'uniform', activation = 'sigmoid'))\n"
      ],
      "metadata": {
        "id": "TzBM7zl35KMh"
      },
      "execution_count": null,
      "outputs": []
    },
    {
      "cell_type": "code",
      "source": [
        "# compiling the model\n",
        "# Compiling the ANN\n",
        "from tensorflow.keras.optimizers import Nadam\n",
        "opt = Nadam(learning_rate=0.00009)\n",
        "model.compile(optimizer = opt, loss = 'binary_crossentropy', metrics = ['accuracy'])\n"
      ],
      "metadata": {
        "id": "EM-UULQH5KO7"
      },
      "execution_count": null,
      "outputs": []
    },
    {
      "cell_type": "code",
      "source": [
        "#Now compiling the ann\n",
        "history = model.fit(X_train , y_train , batch_size = 32 , epochs = 150 ,  callbacks = [early_stopping] , validation_split = 0.2)"
      ],
      "metadata": {
        "colab": {
          "base_uri": "https://localhost:8080/"
        },
        "id": "eUoFi5Rl5KTI",
        "outputId": "7621e57b-c43a-4c83-c77b-2831343056fb"
      },
      "execution_count": null,
      "outputs": [
        {
          "output_type": "stream",
          "name": "stdout",
          "text": [
            "Epoch 1/150\n",
            "12/12 [==============================] - 2s 39ms/step - loss: 0.6931 - accuracy: 0.6154 - val_loss: 0.6930 - val_accuracy: 0.6374\n",
            "Epoch 2/150\n",
            "12/12 [==============================] - 0s 13ms/step - loss: 0.6930 - accuracy: 0.6264 - val_loss: 0.6929 - val_accuracy: 0.6374\n",
            "Epoch 3/150\n",
            "12/12 [==============================] - 0s 13ms/step - loss: 0.6928 - accuracy: 0.6264 - val_loss: 0.6927 - val_accuracy: 0.6374\n",
            "Epoch 4/150\n",
            "12/12 [==============================] - 0s 13ms/step - loss: 0.6927 - accuracy: 0.6264 - val_loss: 0.6926 - val_accuracy: 0.6374\n",
            "Epoch 5/150\n",
            "12/12 [==============================] - 0s 12ms/step - loss: 0.6926 - accuracy: 0.6264 - val_loss: 0.6924 - val_accuracy: 0.6374\n",
            "Epoch 6/150\n",
            "12/12 [==============================] - 0s 11ms/step - loss: 0.6924 - accuracy: 0.6264 - val_loss: 0.6922 - val_accuracy: 0.6374\n",
            "Epoch 7/150\n",
            "12/12 [==============================] - 0s 12ms/step - loss: 0.6922 - accuracy: 0.6264 - val_loss: 0.6920 - val_accuracy: 0.6374\n",
            "Epoch 8/150\n",
            "12/12 [==============================] - 0s 12ms/step - loss: 0.6920 - accuracy: 0.6264 - val_loss: 0.6918 - val_accuracy: 0.6374\n",
            "Epoch 9/150\n",
            "12/12 [==============================] - 0s 16ms/step - loss: 0.6917 - accuracy: 0.6264 - val_loss: 0.6914 - val_accuracy: 0.6374\n",
            "Epoch 10/150\n",
            "12/12 [==============================] - 0s 13ms/step - loss: 0.6915 - accuracy: 0.6264 - val_loss: 0.6911 - val_accuracy: 0.6374\n",
            "Epoch 11/150\n",
            "12/12 [==============================] - 0s 12ms/step - loss: 0.6909 - accuracy: 0.6264 - val_loss: 0.6905 - val_accuracy: 0.6374\n",
            "Epoch 12/150\n",
            "12/12 [==============================] - 0s 14ms/step - loss: 0.6905 - accuracy: 0.6264 - val_loss: 0.6898 - val_accuracy: 0.6374\n",
            "Epoch 13/150\n",
            "12/12 [==============================] - 0s 13ms/step - loss: 0.6897 - accuracy: 0.6264 - val_loss: 0.6889 - val_accuracy: 0.6374\n",
            "Epoch 14/150\n",
            "12/12 [==============================] - 0s 11ms/step - loss: 0.6888 - accuracy: 0.6264 - val_loss: 0.6878 - val_accuracy: 0.6374\n",
            "Epoch 15/150\n",
            "12/12 [==============================] - 0s 14ms/step - loss: 0.6874 - accuracy: 0.6264 - val_loss: 0.6863 - val_accuracy: 0.6374\n",
            "Epoch 16/150\n",
            "12/12 [==============================] - 0s 15ms/step - loss: 0.6860 - accuracy: 0.6264 - val_loss: 0.6845 - val_accuracy: 0.6374\n",
            "Epoch 17/150\n",
            "12/12 [==============================] - 0s 12ms/step - loss: 0.6846 - accuracy: 0.6291 - val_loss: 0.6823 - val_accuracy: 0.6374\n",
            "Epoch 18/150\n",
            "12/12 [==============================] - 0s 14ms/step - loss: 0.6818 - accuracy: 0.6291 - val_loss: 0.6794 - val_accuracy: 0.6484\n",
            "Epoch 19/150\n",
            "12/12 [==============================] - 0s 14ms/step - loss: 0.6784 - accuracy: 0.6621 - val_loss: 0.6757 - val_accuracy: 0.6484\n",
            "Epoch 20/150\n",
            "12/12 [==============================] - 0s 14ms/step - loss: 0.6748 - accuracy: 0.6758 - val_loss: 0.6713 - val_accuracy: 0.6593\n",
            "Epoch 21/150\n",
            "12/12 [==============================] - 0s 14ms/step - loss: 0.6695 - accuracy: 0.6868 - val_loss: 0.6658 - val_accuracy: 0.6813\n",
            "Epoch 22/150\n",
            "12/12 [==============================] - 0s 19ms/step - loss: 0.6638 - accuracy: 0.7115 - val_loss: 0.6593 - val_accuracy: 0.6923\n",
            "Epoch 23/150\n",
            "12/12 [==============================] - 0s 15ms/step - loss: 0.6571 - accuracy: 0.7363 - val_loss: 0.6516 - val_accuracy: 0.7253\n",
            "Epoch 24/150\n",
            "12/12 [==============================] - 0s 12ms/step - loss: 0.6484 - accuracy: 0.7802 - val_loss: 0.6424 - val_accuracy: 0.7582\n",
            "Epoch 25/150\n",
            "12/12 [==============================] - 0s 11ms/step - loss: 0.6403 - accuracy: 0.7885 - val_loss: 0.6321 - val_accuracy: 0.8242\n",
            "Epoch 26/150\n",
            "12/12 [==============================] - 0s 15ms/step - loss: 0.6305 - accuracy: 0.7967 - val_loss: 0.6206 - val_accuracy: 0.8462\n",
            "Epoch 27/150\n",
            "12/12 [==============================] - 0s 12ms/step - loss: 0.6218 - accuracy: 0.8049 - val_loss: 0.6080 - val_accuracy: 0.8901\n",
            "Epoch 28/150\n",
            "12/12 [==============================] - 0s 13ms/step - loss: 0.6073 - accuracy: 0.7940 - val_loss: 0.5940 - val_accuracy: 0.9121\n",
            "Epoch 29/150\n",
            "12/12 [==============================] - 0s 11ms/step - loss: 0.5931 - accuracy: 0.8544 - val_loss: 0.5785 - val_accuracy: 0.9341\n",
            "Epoch 30/150\n",
            "12/12 [==============================] - 0s 12ms/step - loss: 0.5769 - accuracy: 0.8489 - val_loss: 0.5616 - val_accuracy: 0.9341\n",
            "Epoch 31/150\n",
            "12/12 [==============================] - 0s 14ms/step - loss: 0.5698 - accuracy: 0.8242 - val_loss: 0.5447 - val_accuracy: 0.9341\n",
            "Epoch 32/150\n",
            "12/12 [==============================] - 0s 10ms/step - loss: 0.5541 - accuracy: 0.8626 - val_loss: 0.5266 - val_accuracy: 0.9341\n",
            "Epoch 33/150\n",
            "12/12 [==============================] - 0s 13ms/step - loss: 0.5363 - accuracy: 0.8901 - val_loss: 0.5082 - val_accuracy: 0.9341\n",
            "Epoch 34/150\n",
            "12/12 [==============================] - 0s 11ms/step - loss: 0.5196 - accuracy: 0.8874 - val_loss: 0.4896 - val_accuracy: 0.9451\n",
            "Epoch 35/150\n",
            "12/12 [==============================] - 0s 16ms/step - loss: 0.4957 - accuracy: 0.8599 - val_loss: 0.4702 - val_accuracy: 0.9451\n",
            "Epoch 36/150\n",
            "12/12 [==============================] - 0s 15ms/step - loss: 0.4917 - accuracy: 0.8736 - val_loss: 0.4516 - val_accuracy: 0.9451\n",
            "Epoch 37/150\n",
            "12/12 [==============================] - 0s 11ms/step - loss: 0.4557 - accuracy: 0.8764 - val_loss: 0.4331 - val_accuracy: 0.9451\n",
            "Epoch 38/150\n",
            "12/12 [==============================] - 0s 16ms/step - loss: 0.4493 - accuracy: 0.8764 - val_loss: 0.4151 - val_accuracy: 0.9451\n",
            "Epoch 39/150\n",
            "12/12 [==============================] - 0s 11ms/step - loss: 0.4316 - accuracy: 0.8764 - val_loss: 0.3988 - val_accuracy: 0.9560\n",
            "Epoch 40/150\n",
            "12/12 [==============================] - 0s 12ms/step - loss: 0.4185 - accuracy: 0.8874 - val_loss: 0.3826 - val_accuracy: 0.9560\n",
            "Epoch 41/150\n",
            "12/12 [==============================] - 0s 9ms/step - loss: 0.4144 - accuracy: 0.8764 - val_loss: 0.3670 - val_accuracy: 0.9560\n",
            "Epoch 42/150\n",
            "12/12 [==============================] - 0s 12ms/step - loss: 0.3913 - accuracy: 0.8709 - val_loss: 0.3517 - val_accuracy: 0.9560\n",
            "Epoch 43/150\n",
            "12/12 [==============================] - 0s 17ms/step - loss: 0.3712 - accuracy: 0.8929 - val_loss: 0.3370 - val_accuracy: 0.9560\n",
            "Epoch 44/150\n",
            "12/12 [==============================] - 0s 13ms/step - loss: 0.3579 - accuracy: 0.9011 - val_loss: 0.3230 - val_accuracy: 0.9560\n",
            "Epoch 45/150\n",
            "12/12 [==============================] - 0s 14ms/step - loss: 0.3438 - accuracy: 0.8791 - val_loss: 0.3096 - val_accuracy: 0.9560\n",
            "Epoch 46/150\n",
            "12/12 [==============================] - 0s 14ms/step - loss: 0.3429 - accuracy: 0.8819 - val_loss: 0.2975 - val_accuracy: 0.9560\n",
            "Epoch 47/150\n",
            "12/12 [==============================] - 0s 11ms/step - loss: 0.3522 - accuracy: 0.8654 - val_loss: 0.2869 - val_accuracy: 0.9560\n",
            "Epoch 48/150\n",
            "12/12 [==============================] - 0s 11ms/step - loss: 0.3311 - accuracy: 0.8819 - val_loss: 0.2765 - val_accuracy: 0.9560\n",
            "Epoch 49/150\n",
            "12/12 [==============================] - 0s 11ms/step - loss: 0.3121 - accuracy: 0.9011 - val_loss: 0.2661 - val_accuracy: 0.9560\n",
            "Epoch 50/150\n",
            "12/12 [==============================] - 0s 14ms/step - loss: 0.3205 - accuracy: 0.8791 - val_loss: 0.2561 - val_accuracy: 0.9560\n",
            "Epoch 51/150\n",
            "12/12 [==============================] - 0s 18ms/step - loss: 0.2882 - accuracy: 0.9011 - val_loss: 0.2469 - val_accuracy: 0.9560\n",
            "Epoch 52/150\n",
            "12/12 [==============================] - 0s 12ms/step - loss: 0.2965 - accuracy: 0.8736 - val_loss: 0.2383 - val_accuracy: 0.9670\n",
            "Epoch 53/150\n",
            "12/12 [==============================] - 0s 12ms/step - loss: 0.2876 - accuracy: 0.8846 - val_loss: 0.2306 - val_accuracy: 0.9670\n",
            "Epoch 54/150\n",
            "12/12 [==============================] - 0s 11ms/step - loss: 0.2766 - accuracy: 0.8846 - val_loss: 0.2235 - val_accuracy: 0.9670\n",
            "Epoch 55/150\n",
            "12/12 [==============================] - 0s 15ms/step - loss: 0.2701 - accuracy: 0.8819 - val_loss: 0.2164 - val_accuracy: 0.9670\n",
            "Epoch 56/150\n",
            "12/12 [==============================] - 0s 15ms/step - loss: 0.2402 - accuracy: 0.9011 - val_loss: 0.2095 - val_accuracy: 0.9670\n",
            "Epoch 57/150\n",
            "12/12 [==============================] - 0s 18ms/step - loss: 0.2473 - accuracy: 0.8819 - val_loss: 0.2031 - val_accuracy: 0.9670\n",
            "Epoch 58/150\n",
            "12/12 [==============================] - 0s 15ms/step - loss: 0.2430 - accuracy: 0.8901 - val_loss: 0.1972 - val_accuracy: 0.9670\n",
            "Epoch 59/150\n",
            "12/12 [==============================] - 0s 15ms/step - loss: 0.2438 - accuracy: 0.8984 - val_loss: 0.1917 - val_accuracy: 0.9780\n",
            "Epoch 60/150\n",
            "12/12 [==============================] - 0s 20ms/step - loss: 0.2270 - accuracy: 0.8819 - val_loss: 0.1869 - val_accuracy: 0.9780\n",
            "Epoch 61/150\n",
            "12/12 [==============================] - 0s 18ms/step - loss: 0.2408 - accuracy: 0.8901 - val_loss: 0.1821 - val_accuracy: 0.9780\n",
            "Epoch 62/150\n",
            "12/12 [==============================] - 0s 17ms/step - loss: 0.2385 - accuracy: 0.8764 - val_loss: 0.1780 - val_accuracy: 0.9780\n",
            "Epoch 63/150\n",
            "12/12 [==============================] - 0s 17ms/step - loss: 0.2246 - accuracy: 0.8709 - val_loss: 0.1741 - val_accuracy: 0.9780\n",
            "Epoch 64/150\n",
            "12/12 [==============================] - 0s 14ms/step - loss: 0.2262 - accuracy: 0.8791 - val_loss: 0.1703 - val_accuracy: 0.9780\n",
            "Epoch 65/150\n",
            "12/12 [==============================] - 0s 11ms/step - loss: 0.2124 - accuracy: 0.8874 - val_loss: 0.1664 - val_accuracy: 0.9780\n",
            "Epoch 66/150\n",
            "12/12 [==============================] - 0s 16ms/step - loss: 0.2152 - accuracy: 0.8791 - val_loss: 0.1629 - val_accuracy: 0.9780\n",
            "Epoch 67/150\n",
            "12/12 [==============================] - 0s 15ms/step - loss: 0.2143 - accuracy: 0.8736 - val_loss: 0.1599 - val_accuracy: 0.9780\n",
            "Epoch 68/150\n",
            "12/12 [==============================] - 0s 13ms/step - loss: 0.1952 - accuracy: 0.9231 - val_loss: 0.1566 - val_accuracy: 0.9780\n",
            "Epoch 69/150\n",
            "12/12 [==============================] - 0s 15ms/step - loss: 0.2175 - accuracy: 0.8874 - val_loss: 0.1540 - val_accuracy: 0.9780\n",
            "Epoch 70/150\n",
            "12/12 [==============================] - 0s 12ms/step - loss: 0.2099 - accuracy: 0.8736 - val_loss: 0.1514 - val_accuracy: 0.9780\n",
            "Epoch 71/150\n",
            "12/12 [==============================] - 0s 15ms/step - loss: 0.1874 - accuracy: 0.8929 - val_loss: 0.1487 - val_accuracy: 0.9780\n",
            "Epoch 72/150\n",
            "12/12 [==============================] - 0s 17ms/step - loss: 0.2005 - accuracy: 0.8846 - val_loss: 0.1463 - val_accuracy: 0.9780\n",
            "Epoch 73/150\n",
            "12/12 [==============================] - 0s 15ms/step - loss: 0.1832 - accuracy: 0.8929 - val_loss: 0.1441 - val_accuracy: 0.9780\n",
            "Epoch 74/150\n",
            "12/12 [==============================] - 0s 13ms/step - loss: 0.1903 - accuracy: 0.8901 - val_loss: 0.1420 - val_accuracy: 0.9780\n",
            "Epoch 75/150\n",
            "12/12 [==============================] - 0s 18ms/step - loss: 0.1994 - accuracy: 0.9038 - val_loss: 0.1399 - val_accuracy: 0.9780\n",
            "Epoch 76/150\n",
            "12/12 [==============================] - 0s 11ms/step - loss: 0.1949 - accuracy: 0.8819 - val_loss: 0.1380 - val_accuracy: 0.9780\n",
            "Epoch 77/150\n",
            "12/12 [==============================] - 0s 13ms/step - loss: 0.1727 - accuracy: 0.9203 - val_loss: 0.1358 - val_accuracy: 0.9780\n",
            "Epoch 78/150\n",
            "12/12 [==============================] - 0s 16ms/step - loss: 0.1781 - accuracy: 0.8819 - val_loss: 0.1339 - val_accuracy: 0.9780\n",
            "Epoch 79/150\n",
            "12/12 [==============================] - 0s 11ms/step - loss: 0.1851 - accuracy: 0.8874 - val_loss: 0.1323 - val_accuracy: 0.9780\n",
            "Epoch 80/150\n",
            "12/12 [==============================] - 0s 13ms/step - loss: 0.1754 - accuracy: 0.8929 - val_loss: 0.1306 - val_accuracy: 0.9780\n",
            "Epoch 81/150\n",
            "12/12 [==============================] - 0s 15ms/step - loss: 0.1908 - accuracy: 0.8846 - val_loss: 0.1293 - val_accuracy: 0.9780\n",
            "Epoch 82/150\n",
            "12/12 [==============================] - 0s 17ms/step - loss: 0.2106 - accuracy: 0.8681 - val_loss: 0.1280 - val_accuracy: 0.9780\n",
            "Epoch 83/150\n",
            "12/12 [==============================] - 0s 13ms/step - loss: 0.1653 - accuracy: 0.8736 - val_loss: 0.1267 - val_accuracy: 0.9780\n",
            "Epoch 84/150\n",
            "12/12 [==============================] - 0s 8ms/step - loss: 0.1886 - accuracy: 0.8736 - val_loss: 0.1254 - val_accuracy: 0.9780\n",
            "Epoch 85/150\n",
            "12/12 [==============================] - 0s 12ms/step - loss: 0.1721 - accuracy: 0.9011 - val_loss: 0.1241 - val_accuracy: 0.9780\n",
            "Epoch 86/150\n",
            "12/12 [==============================] - 0s 14ms/step - loss: 0.1645 - accuracy: 0.8874 - val_loss: 0.1230 - val_accuracy: 0.9780\n",
            "Epoch 87/150\n",
            "12/12 [==============================] - 0s 14ms/step - loss: 0.1936 - accuracy: 0.8654 - val_loss: 0.1220 - val_accuracy: 0.9780\n",
            "Epoch 88/150\n",
            "12/12 [==============================] - 0s 16ms/step - loss: 0.1510 - accuracy: 0.9066 - val_loss: 0.1210 - val_accuracy: 0.9780\n",
            "Epoch 89/150\n",
            "12/12 [==============================] - 0s 19ms/step - loss: 0.1646 - accuracy: 0.8846 - val_loss: 0.1200 - val_accuracy: 0.9780\n",
            "Epoch 90/150\n",
            "12/12 [==============================] - 0s 18ms/step - loss: 0.1756 - accuracy: 0.8984 - val_loss: 0.1192 - val_accuracy: 0.9780\n",
            "Epoch 91/150\n",
            "12/12 [==============================] - 0s 23ms/step - loss: 0.1613 - accuracy: 0.9011 - val_loss: 0.1185 - val_accuracy: 0.9780\n",
            "Epoch 92/150\n",
            "12/12 [==============================] - 0s 16ms/step - loss: 0.1793 - accuracy: 0.8956 - val_loss: 0.1178 - val_accuracy: 0.9780\n",
            "Epoch 93/150\n",
            "12/12 [==============================] - 0s 14ms/step - loss: 0.1665 - accuracy: 0.9066 - val_loss: 0.1172 - val_accuracy: 0.9780\n",
            "Epoch 94/150\n",
            "12/12 [==============================] - 0s 11ms/step - loss: 0.1420 - accuracy: 0.9011 - val_loss: 0.1166 - val_accuracy: 0.9780\n",
            "Epoch 95/150\n",
            "12/12 [==============================] - 0s 16ms/step - loss: 0.1696 - accuracy: 0.9066 - val_loss: 0.1158 - val_accuracy: 0.9780\n",
            "Epoch 96/150\n",
            "12/12 [==============================] - 0s 14ms/step - loss: 0.1451 - accuracy: 0.8901 - val_loss: 0.1152 - val_accuracy: 0.9780\n",
            "Epoch 97/150\n",
            "12/12 [==============================] - 0s 14ms/step - loss: 0.1563 - accuracy: 0.8874 - val_loss: 0.1145 - val_accuracy: 0.9780\n",
            "Epoch 98/150\n",
            "12/12 [==============================] - 0s 12ms/step - loss: 0.1686 - accuracy: 0.8929 - val_loss: 0.1139 - val_accuracy: 0.9780\n",
            "Epoch 99/150\n",
            "12/12 [==============================] - 0s 13ms/step - loss: 0.1484 - accuracy: 0.8901 - val_loss: 0.1134 - val_accuracy: 0.9780\n",
            "Epoch 100/150\n",
            "12/12 [==============================] - 0s 12ms/step - loss: 0.1630 - accuracy: 0.8984 - val_loss: 0.1127 - val_accuracy: 0.9780\n",
            "Epoch 101/150\n",
            "12/12 [==============================] - 0s 16ms/step - loss: 0.1491 - accuracy: 0.8901 - val_loss: 0.1121 - val_accuracy: 0.9780\n",
            "Epoch 102/150\n",
            "12/12 [==============================] - 0s 16ms/step - loss: 0.1569 - accuracy: 0.8791 - val_loss: 0.1115 - val_accuracy: 0.9780\n",
            "Epoch 103/150\n",
            "12/12 [==============================] - 0s 21ms/step - loss: 0.1549 - accuracy: 0.8984 - val_loss: 0.1109 - val_accuracy: 0.9780\n",
            "Epoch 104/150\n",
            "12/12 [==============================] - 0s 11ms/step - loss: 0.1321 - accuracy: 0.9176 - val_loss: 0.1104 - val_accuracy: 0.9780\n",
            "Epoch 105/150\n",
            "12/12 [==============================] - 0s 10ms/step - loss: 0.1562 - accuracy: 0.9093 - val_loss: 0.1100 - val_accuracy: 0.9780\n",
            "Epoch 106/150\n",
            "12/12 [==============================] - 0s 12ms/step - loss: 0.1431 - accuracy: 0.9093 - val_loss: 0.1095 - val_accuracy: 0.9780\n",
            "Epoch 107/150\n",
            "12/12 [==============================] - 0s 15ms/step - loss: 0.1522 - accuracy: 0.8874 - val_loss: 0.1090 - val_accuracy: 0.9780\n",
            "Epoch 108/150\n",
            "12/12 [==============================] - 0s 12ms/step - loss: 0.1498 - accuracy: 0.8874 - val_loss: 0.1085 - val_accuracy: 0.9780\n",
            "Epoch 109/150\n",
            "12/12 [==============================] - 0s 14ms/step - loss: 0.1546 - accuracy: 0.9093 - val_loss: 0.1081 - val_accuracy: 0.9780\n",
            "Epoch 110/150\n",
            "12/12 [==============================] - 0s 10ms/step - loss: 0.1388 - accuracy: 0.9148 - val_loss: 0.1076 - val_accuracy: 0.9780\n",
            "Epoch 111/150\n",
            "12/12 [==============================] - 0s 13ms/step - loss: 0.1600 - accuracy: 0.8764 - val_loss: 0.1072 - val_accuracy: 0.9780\n",
            "Epoch 112/150\n",
            "12/12 [==============================] - 0s 11ms/step - loss: 0.1485 - accuracy: 0.8929 - val_loss: 0.1070 - val_accuracy: 0.9780\n",
            "Epoch 113/150\n",
            "12/12 [==============================] - 0s 11ms/step - loss: 0.1523 - accuracy: 0.8819 - val_loss: 0.1070 - val_accuracy: 0.9780\n",
            "Epoch 114/150\n",
            "12/12 [==============================] - 0s 11ms/step - loss: 0.1507 - accuracy: 0.8984 - val_loss: 0.1070 - val_accuracy: 0.9780\n",
            "Epoch 115/150\n",
            "12/12 [==============================] - 0s 12ms/step - loss: 0.1274 - accuracy: 0.9066 - val_loss: 0.1068 - val_accuracy: 0.9780\n",
            "Epoch 116/150\n",
            "12/12 [==============================] - 0s 14ms/step - loss: 0.1532 - accuracy: 0.8874 - val_loss: 0.1066 - val_accuracy: 0.9780\n",
            "Epoch 117/150\n",
            "12/12 [==============================] - 0s 12ms/step - loss: 0.1531 - accuracy: 0.8956 - val_loss: 0.1063 - val_accuracy: 0.9780\n",
            "Epoch 118/150\n",
            "12/12 [==============================] - 0s 13ms/step - loss: 0.1420 - accuracy: 0.9725 - val_loss: 0.1060 - val_accuracy: 0.9780\n",
            "Epoch 119/150\n",
            "12/12 [==============================] - 0s 17ms/step - loss: 0.1512 - accuracy: 0.9725 - val_loss: 0.1057 - val_accuracy: 0.9780\n",
            "Epoch 120/150\n",
            "12/12 [==============================] - 0s 18ms/step - loss: 0.1408 - accuracy: 0.9780 - val_loss: 0.1055 - val_accuracy: 0.9780\n",
            "Epoch 121/150\n",
            "12/12 [==============================] - 0s 13ms/step - loss: 0.1473 - accuracy: 0.9753 - val_loss: 0.1052 - val_accuracy: 0.9780\n",
            "Epoch 122/150\n",
            "12/12 [==============================] - 0s 11ms/step - loss: 0.1330 - accuracy: 0.9670 - val_loss: 0.1051 - val_accuracy: 0.9780\n",
            "Epoch 123/150\n",
            "12/12 [==============================] - 0s 15ms/step - loss: 0.1237 - accuracy: 0.9725 - val_loss: 0.1049 - val_accuracy: 0.9780\n",
            "Epoch 124/150\n",
            "12/12 [==============================] - 0s 11ms/step - loss: 0.1351 - accuracy: 0.9753 - val_loss: 0.1047 - val_accuracy: 0.9780\n",
            "Epoch 125/150\n",
            "12/12 [==============================] - 0s 11ms/step - loss: 0.1442 - accuracy: 0.9643 - val_loss: 0.1045 - val_accuracy: 0.9780\n",
            "Epoch 126/150\n",
            "12/12 [==============================] - 0s 11ms/step - loss: 0.1364 - accuracy: 0.9753 - val_loss: 0.1043 - val_accuracy: 0.9780\n",
            "Epoch 127/150\n",
            "12/12 [==============================] - 0s 14ms/step - loss: 0.1328 - accuracy: 0.9725 - val_loss: 0.1042 - val_accuracy: 0.9780\n",
            "Epoch 128/150\n",
            "12/12 [==============================] - 0s 11ms/step - loss: 0.1471 - accuracy: 0.9780 - val_loss: 0.1041 - val_accuracy: 0.9780\n",
            "Epoch 129/150\n",
            "12/12 [==============================] - 0s 12ms/step - loss: 0.1324 - accuracy: 0.9753 - val_loss: 0.1038 - val_accuracy: 0.9780\n",
            "Epoch 130/150\n",
            "12/12 [==============================] - 0s 15ms/step - loss: 0.1529 - accuracy: 0.9780 - val_loss: 0.1037 - val_accuracy: 0.9780\n",
            "Epoch 131/150\n",
            "12/12 [==============================] - 0s 14ms/step - loss: 0.1467 - accuracy: 0.9753 - val_loss: 0.1036 - val_accuracy: 0.9780\n",
            "Epoch 132/150\n",
            "12/12 [==============================] - 0s 13ms/step - loss: 0.1293 - accuracy: 0.9698 - val_loss: 0.1036 - val_accuracy: 0.9780\n",
            "Epoch 133/150\n",
            "12/12 [==============================] - 0s 13ms/step - loss: 0.1520 - accuracy: 0.9670 - val_loss: 0.1035 - val_accuracy: 0.9780\n",
            "Epoch 134/150\n",
            "12/12 [==============================] - 0s 13ms/step - loss: 0.1219 - accuracy: 0.9808 - val_loss: 0.1036 - val_accuracy: 0.9780\n",
            "Epoch 135/150\n",
            "12/12 [==============================] - 0s 11ms/step - loss: 0.1420 - accuracy: 0.9698 - val_loss: 0.1033 - val_accuracy: 0.9780\n",
            "Epoch 136/150\n",
            "12/12 [==============================] - 0s 12ms/step - loss: 0.1420 - accuracy: 0.9780 - val_loss: 0.1032 - val_accuracy: 0.9780\n",
            "Epoch 137/150\n",
            "12/12 [==============================] - 0s 16ms/step - loss: 0.1415 - accuracy: 0.9808 - val_loss: 0.1031 - val_accuracy: 0.9780\n",
            "Epoch 138/150\n",
            "12/12 [==============================] - 0s 14ms/step - loss: 0.1475 - accuracy: 0.9753 - val_loss: 0.1029 - val_accuracy: 0.9780\n",
            "Epoch 139/150\n",
            "12/12 [==============================] - 0s 15ms/step - loss: 0.1183 - accuracy: 0.9780 - val_loss: 0.1028 - val_accuracy: 0.9780\n",
            "Epoch 140/150\n",
            "12/12 [==============================] - 0s 12ms/step - loss: 0.1296 - accuracy: 0.9808 - val_loss: 0.1028 - val_accuracy: 0.9780\n",
            "Epoch 141/150\n",
            "12/12 [==============================] - 0s 13ms/step - loss: 0.1321 - accuracy: 0.9835 - val_loss: 0.1028 - val_accuracy: 0.9780\n",
            "Epoch 142/150\n",
            "12/12 [==============================] - 0s 14ms/step - loss: 0.1459 - accuracy: 0.9780 - val_loss: 0.1027 - val_accuracy: 0.9780\n",
            "Epoch 143/150\n",
            "12/12 [==============================] - 0s 18ms/step - loss: 0.1177 - accuracy: 0.9725 - val_loss: 0.1028 - val_accuracy: 0.9780\n",
            "Epoch 144/150\n",
            "12/12 [==============================] - 0s 15ms/step - loss: 0.1255 - accuracy: 0.9863 - val_loss: 0.1026 - val_accuracy: 0.9780\n",
            "Epoch 145/150\n",
            "12/12 [==============================] - 0s 16ms/step - loss: 0.1402 - accuracy: 0.9835 - val_loss: 0.1024 - val_accuracy: 0.9780\n",
            "Epoch 146/150\n",
            "12/12 [==============================] - 0s 14ms/step - loss: 0.1378 - accuracy: 0.9753 - val_loss: 0.1021 - val_accuracy: 0.9780\n",
            "Epoch 147/150\n",
            "12/12 [==============================] - 0s 15ms/step - loss: 0.1205 - accuracy: 0.9698 - val_loss: 0.1019 - val_accuracy: 0.9780\n",
            "Epoch 148/150\n",
            "12/12 [==============================] - 0s 11ms/step - loss: 0.1486 - accuracy: 0.9808 - val_loss: 0.1019 - val_accuracy: 0.9780\n",
            "Epoch 149/150\n",
            "12/12 [==============================] - 0s 15ms/step - loss: 0.1238 - accuracy: 0.9725 - val_loss: 0.1018 - val_accuracy: 0.9780\n",
            "Epoch 150/150\n",
            "12/12 [==============================] - 0s 13ms/step - loss: 0.1872 - accuracy: 0.9808 - val_loss: 0.1017 - val_accuracy: 0.9780\n"
          ]
        }
      ]
    },
    {
      "cell_type": "code",
      "source": [
        "model.summary()"
      ],
      "metadata": {
        "colab": {
          "base_uri": "https://localhost:8080/"
        },
        "id": "9ot_0vttC5th",
        "outputId": "3a2fcd1e-df77-4e67-ed47-80ccd38bede1"
      },
      "execution_count": null,
      "outputs": [
        {
          "output_type": "stream",
          "name": "stdout",
          "text": [
            "Model: \"sequential\"\n",
            "_________________________________________________________________\n",
            " Layer (type)                Output Shape              Param #   \n",
            "=================================================================\n",
            " dense (Dense)               (None, 32)                992       \n",
            "                                                                 \n",
            " dense_1 (Dense)             (None, 32)                1056      \n",
            "                                                                 \n",
            " dense_2 (Dense)             (None, 16)                528       \n",
            "                                                                 \n",
            " dropout (Dropout)           (None, 16)                0         \n",
            "                                                                 \n",
            " dense_3 (Dense)             (None, 8)                 136       \n",
            "                                                                 \n",
            " dropout_1 (Dropout)         (None, 8)                 0         \n",
            "                                                                 \n",
            " dense_4 (Dense)             (None, 1)                 9         \n",
            "                                                                 \n",
            "=================================================================\n",
            "Total params: 2,721\n",
            "Trainable params: 2,721\n",
            "Non-trainable params: 0\n",
            "_________________________________________________________________\n"
          ]
        }
      ]
    },
    {
      "cell_type": "code",
      "source": [
        "history_df = pd.DataFrame(history.history)\n",
        "\n",
        "plt.plot(history_df.loc[:, ['loss']], \"#BDE2E2\", label='Training loss')\n",
        "plt.plot(history_df.loc[:, ['val_loss']],\"#C2C4E2\", label='Validation loss')\n",
        "plt.title('Training and Validation loss')\n",
        "plt.xlabel('Epochs')\n",
        "plt.ylabel('Loss')\n",
        "plt.legend(loc=\"best\")\n",
        "\n",
        "plt.show()"
      ],
      "metadata": {
        "colab": {
          "base_uri": "https://localhost:8080/",
          "height": 295
        },
        "id": "X8wN3cVWGBQg",
        "outputId": "3e80717c-04e4-4e4f-98ee-925a7adef013"
      },
      "execution_count": null,
      "outputs": [
        {
          "output_type": "display_data",
          "data": {
            "image/png": "[encoded data removed]",
            "text/plain": [
              "<Figure size 432x288 with 1 Axes>"
            ]
          },
          "metadata": {
            "needs_background": "light"
          }
        }
      ]
    },
    {
      "cell_type": "code",
      "source": [
        "history_df = pd.DataFrame(history.history)\n",
        "\n",
        "plt.plot(history_df.loc[:, ['accuracy']], \"#BDE2E2\", label='Training accuracy')\n",
        "plt.plot(history_df.loc[:, ['val_accuracy']], \"#C2C4E2\", label='Validation accuracy')\n",
        "\n",
        "plt.title('Training and Validation accuracy')\n",
        "plt.xlabel('Epochs')\n",
        "plt.ylabel('Accuracy')\n",
        "plt.legend()\n",
        "plt.show()"
      ],
      "metadata": {
        "colab": {
          "base_uri": "https://localhost:8080/",
          "height": 295
        },
        "id": "8PhliX5E5KWB",
        "outputId": "5a27372b-394b-4229-fb2c-f559b7902e41"
      },
      "execution_count": null,
      "outputs": [
        {
          "output_type": "display_data",
          "data": {
            "image/png": "[encoded data removed]",
            "text/plain": [
              "<Figure size 432x288 with 1 Axes>"
            ]
          },
          "metadata": {
            "needs_background": "light"
          }
        }
      ]
    },
    {
      "cell_type": "code",
      "source": [
        ""
      ],
      "metadata": {
        "id": "pmIqF42gGUR7"
      },
      "execution_count": null,
      "outputs": []
    },
    {
      "cell_type": "code",
      "source": [
        ""
      ],
      "metadata": {
        "id": "GPr-LOgQGUUQ"
      },
      "execution_count": null,
      "outputs": []
    },
    {
      "cell_type": "code",
      "source": [
        "# Predicting the test set results\n",
        "y_pred = model.predict(X_test)\n",
        "y_pred = (y_pred > 0.5)"
      ],
      "metadata": {
        "id": "as3Rr6iyGUYc"
      },
      "execution_count": null,
      "outputs": []
    },
    {
      "cell_type": "code",
      "source": [
        "from sklearn.metrics import precision_score, recall_score, confusion_matrix, classification_report, accuracy_score, f1_score"
      ],
      "metadata": {
        "id": "FoiSeq3QGUbR"
      },
      "execution_count": null,
      "outputs": []
    },
    {
      "cell_type": "code",
      "source": [
        "# confusion matrix\n",
        "cmap1 = sns.diverging_palette(260,-10,s=50, l=75, n=5, as_cmap=True)\n",
        "plt.subplots(figsize=(12,8))\n",
        "cf_matrix = confusion_matrix(y_test, y_pred)\n",
        "sns.heatmap(cf_matrix/np.sum(cf_matrix), cmap = cmap1, annot = True, annot_kws = {'size':15})"
      ],
      "metadata": {
        "colab": {
          "base_uri": "https://localhost:8080/",
          "height": 500
        },
        "id": "fgeQfHUP5KY5",
        "outputId": "ed7b968c-84da-43c7-b39a-5c645d08fde7"
      },
      "execution_count": null,
      "outputs": [
        {
          "output_type": "execute_result",
          "data": {
            "text/plain": [
              "<matplotlib.axes._subplots.AxesSubplot at 0x7f19d3fa6c50>"
            ]
          },
          "metadata": {},
          "execution_count": 32
        },
        {
          "output_type": "display_data",
          "data": {
            "image/png": "[encoded data removed]",
            "text/plain": [
              "<Figure size 864x576 with 2 Axes>"
            ]
          },
          "metadata": {
            "needs_background": "light"
          }
        }
      ]
    },
    {
      "cell_type": "code",
      "source": [
        ""
      ],
      "metadata": {
        "id": "cW4-zEyH5Kbe"
      },
      "execution_count": null,
      "outputs": []
    },
    {
      "cell_type": "code",
      "source": [
        "print(classification_report(y_test, y_pred))\n"
      ],
      "metadata": {
        "colab": {
          "base_uri": "https://localhost:8080/"
        },
        "id": "KGpmXAHX5Ke6",
        "outputId": "51af0289-70e2-4e41-c2d8-1900123dc338"
      },
      "execution_count": null,
      "outputs": [
        {
          "output_type": "stream",
          "name": "stdout",
          "text": [
            "              precision    recall  f1-score   support\n",
            "\n",
            "           0       0.97      1.00      0.99        71\n",
            "           1       1.00      0.95      0.98        43\n",
            "\n",
            "    accuracy                           0.98       114\n",
            "   macro avg       0.99      0.98      0.98       114\n",
            "weighted avg       0.98      0.98      0.98       114\n",
            "\n"
          ]
        }
      ]
    },
    {
      "cell_type": "code",
      "source": [
        ""
      ],
      "metadata": {
        "id": "bFAA6Axv5Kht"
      },
      "execution_count": null,
      "outputs": []
    },
    {
      "cell_type": "code",
      "source": [
        ""
      ],
      "metadata": {
        "id": "UJS-7BJu6XHb"
      },
      "execution_count": null,
      "outputs": []
    },
    {
      "cell_type": "code",
      "source": [
        ""
      ],
      "metadata": {
        "id": "PYctK2D07BMa"
      },
      "execution_count": null,
      "outputs": []
    }
  ]
}